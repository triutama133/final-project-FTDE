{
 "cells": [
  {
   "cell_type": "code",
   "execution_count": 9,
   "id": "4cc5a558-8ca3-4a1e-a81b-a63df58258af",
   "metadata": {
    "tags": []
   },
   "outputs": [
    {
     "name": "stdout",
     "output_type": "stream",
     "text": [
      "Requirement already satisfied: sqlalchemy in /home/trianka-utama/.config/jupyterlab-desktop/jlab_server/lib/python3.12/site-packages (2.0.35)\n",
      "Requirement already satisfied: typing-extensions>=4.6.0 in /home/trianka-utama/.config/jupyterlab-desktop/jlab_server/lib/python3.12/site-packages (from sqlalchemy) (4.12.2)\n",
      "Requirement already satisfied: greenlet!=0.4.17 in /home/trianka-utama/.config/jupyterlab-desktop/jlab_server/lib/python3.12/site-packages (from sqlalchemy) (3.1.0)\n",
      "Requirement already satisfied: psycopg in /home/trianka-utama/.config/jupyterlab-desktop/jlab_server/lib/python3.12/site-packages (3.2.2)\n",
      "Requirement already satisfied: typing-extensions>=4.6 in /home/trianka-utama/.config/jupyterlab-desktop/jlab_server/lib/python3.12/site-packages (from psycopg) (4.12.2)\n",
      "Data telah dimasukkan ke tabel data_management_payroll.\n"
     ]
    }
   ],
   "source": [
    "!pip install sqlalchemy\n",
    "!pip install psycopg\n",
    "import pandas as pd\n",
    "import urllib.parse\n",
    "\n",
    "from sqlalchemy import create_engine\n",
    "\n",
    "def insert_data_to_postgresql(df, table_name, db_url):\n",
    "    try:\n",
    "        engine = create_engine(db_url)\n",
    "\n",
    "        df.to_sql(table_name, engine, if_exists='append', index=False)\n",
    "        print(f\"Data telah dimasukkan ke tabel {table_name}.\")\n",
    "    except Exception as e:\n",
    "        print(f\"Terjadi kesalahan: {e}\")\n",
    "\n",
    "if __name__ == \"__main__\":\n",
    "    csv_path = \"data_management_payroll.csv\"\n",
    "    data = pd.read_csv(csv_path)\n",
    "    \n",
    "    # Informasi koneksi ke PostgreSQL\n",
    "    username = \"ftde02\"\n",
    "    password = \"ftde02!@#\"\n",
    "    host = \"34.124.232.157\"\n",
    "    port = \"5432\"\n",
    "    database = \"stream_processing_tri\"\n",
    "    password = urllib.parse.quote_plus(password)\n",
    "\n",
    "    # URL koneksi ke PostgreSQL\n",
    "    db_url = f\"postgresql://{username}:{password}@{host}:{port}/{database}\"\n",
    "\n",
    "    table_name = \"data_management_payroll\"\n",
    "    insert_data_to_postgresql(data, table_name, db_url)"
   ]
  },
  {
   "cell_type": "code",
   "execution_count": 7,
   "id": "aefeb3a2-a878-4b07-9a5d-9ac41ae331ea",
   "metadata": {},
   "outputs": [
    {
     "name": "stdout",
     "output_type": "stream",
     "text": [
      "Collecting psycopg2-binary\n",
      "  Downloading psycopg2_binary-2.9.9-cp312-cp312-manylinux_2_17_x86_64.manylinux2014_x86_64.whl.metadata (4.4 kB)\n",
      "Downloading psycopg2_binary-2.9.9-cp312-cp312-manylinux_2_17_x86_64.manylinux2014_x86_64.whl (3.0 MB)\n",
      "\u001b[2K   \u001b[90m━━━━━━━━━━━━━━━━━━━━━━━━━━━━━━━━━━━━━━━━\u001b[0m \u001b[32m3.0/3.0 MB\u001b[0m \u001b[31m625.0 kB/s\u001b[0m eta \u001b[36m0:00:00\u001b[0ma \u001b[36m0:00:01\u001b[0m\n",
      "\u001b[?25hInstalling collected packages: psycopg2-binary\n",
      "Successfully installed psycopg2-binary-2.9.9\n"
     ]
    }
   ],
   "source": [
    "!pip install psycopg2-binary"
   ]
  },
  {
   "cell_type": "code",
   "execution_count": 10,
   "id": "be36dea6-63c1-4426-9b95-a350d33ec6e8",
   "metadata": {},
   "outputs": [
    {
     "name": "stdout",
     "output_type": "stream",
     "text": [
      "Requirement already satisfied: sqlalchemy in /home/trianka-utama/.config/jupyterlab-desktop/jlab_server/lib/python3.12/site-packages (2.0.35)\n",
      "Requirement already satisfied: typing-extensions>=4.6.0 in /home/trianka-utama/.config/jupyterlab-desktop/jlab_server/lib/python3.12/site-packages (from sqlalchemy) (4.12.2)\n",
      "Requirement already satisfied: greenlet!=0.4.17 in /home/trianka-utama/.config/jupyterlab-desktop/jlab_server/lib/python3.12/site-packages (from sqlalchemy) (3.1.0)\n",
      "Requirement already satisfied: psycopg in /home/trianka-utama/.config/jupyterlab-desktop/jlab_server/lib/python3.12/site-packages (3.2.2)\n",
      "Requirement already satisfied: typing-extensions>=4.6 in /home/trianka-utama/.config/jupyterlab-desktop/jlab_server/lib/python3.12/site-packages (from psycopg) (4.12.2)\n",
      "Data telah dimasukkan ke tabel data_performance_management.\n"
     ]
    }
   ],
   "source": [
    "!pip install sqlalchemy\n",
    "!pip install psycopg\n",
    "import pandas as pd\n",
    "import urllib.parse\n",
    "\n",
    "from sqlalchemy import create_engine\n",
    "\n",
    "def insert_data_to_postgresql(df, table_name, db_url):\n",
    "    try:\n",
    "        engine = create_engine(db_url)\n",
    "\n",
    "        df.to_sql(table_name, engine, if_exists='append', index=False)\n",
    "        print(f\"Data telah dimasukkan ke tabel {table_name}.\")\n",
    "    except Exception as e:\n",
    "        print(f\"Terjadi kesalahan: {e}\")\n",
    "\n",
    "if __name__ == \"__main__\":\n",
    "    csv_path = \"data_performance_management.csv\"\n",
    "    data = pd.read_csv(csv_path)\n",
    "    \n",
    "    # Informasi koneksi ke PostgreSQL\n",
    "    username = \"ftde02\"\n",
    "    password = \"ftde02!@#\"\n",
    "    host = \"34.124.232.157\"\n",
    "    port = \"5432\"\n",
    "    database = \"stream_processing_tri\"\n",
    "    password = urllib.parse.quote_plus(password)\n",
    "\n",
    "    # URL koneksi ke PostgreSQL\n",
    "    db_url = f\"postgresql://{username}:{password}@{host}:{port}/{database}\"\n",
    "\n",
    "    table_name = \"data_performance_management\"\n",
    "    insert_data_to_postgresql(data, table_name, db_url)"
   ]
  },
  {
   "cell_type": "code",
   "execution_count": null,
   "id": "5ee1338e-da3e-4b22-89ae-7fa7f77635fd",
   "metadata": {},
   "outputs": [],
   "source": []
  }
 ],
 "metadata": {
  "kernelspec": {
   "display_name": "Python 3 (ipykernel)",
   "language": "python",
   "name": "python3"
  },
  "language_info": {
   "codemirror_mode": {
    "name": "ipython",
    "version": 3
   },
   "file_extension": ".py",
   "mimetype": "text/x-python",
   "name": "python",
   "nbconvert_exporter": "python",
   "pygments_lexer": "ipython3",
   "version": "3.12.5"
  }
 },
 "nbformat": 4,
 "nbformat_minor": 5
}
